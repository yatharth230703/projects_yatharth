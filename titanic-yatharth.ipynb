{
 "cells": [
  {
   "cell_type": "code",
   "execution_count": 1,
   "id": "1447ead7",
   "metadata": {
    "_cell_guid": "b1076dfc-b9ad-4769-8c92-a6c4dae69d19",
    "_uuid": "8f2839f25d086af736a60e9eeb907d3b93b6e0e5",
    "execution": {
     "iopub.execute_input": "2023-12-13T09:18:25.938145Z",
     "iopub.status.busy": "2023-12-13T09:18:25.936941Z",
     "iopub.status.idle": "2023-12-13T09:18:26.406500Z",
     "shell.execute_reply": "2023-12-13T09:18:26.405336Z"
    },
    "papermill": {
     "duration": 0.483806,
     "end_time": "2023-12-13T09:18:26.409332",
     "exception": false,
     "start_time": "2023-12-13T09:18:25.925526",
     "status": "completed"
    },
    "tags": []
   },
   "outputs": [
    {
     "name": "stdout",
     "output_type": "stream",
     "text": [
      "/kaggle/input/titanic/train.csv\n",
      "/kaggle/input/titanic/test.csv\n",
      "/kaggle/input/titanic/gender_submission.csv\n"
     ]
    }
   ],
   "source": [
    "# This Python 3 environment comes with many helpful analytics libraries installed\n",
    "# It is defined by the kaggle/python Docker image: https://github.com/kaggle/docker-python\n",
    "# For example, here's several helpful packages to load\n",
    "\n",
    "import numpy as np # linear algebra\n",
    "import pandas as pd # data processing, CSV file I/O (e.g. pd.read_csv)\n",
    "\n",
    "# Input data files are available in the read-only \"../input/\" directory\n",
    "# For example, running this (by clicking run or pressing Shift+Enter) will list all files under the input directory\n",
    "\n",
    "import os\n",
    "for dirname, _, filenames in os.walk('/kaggle/input'):\n",
    "    for filename in filenames:\n",
    "        print(os.path.join(dirname, filename))\n",
    "\n",
    "# You can write up to 20GB to the current directory (/kaggle/working/) that gets preserved as output when you create a version using \"Save & Run All\" \n",
    "# You can also write temporary files to /kaggle/temp/, but they won't be saved outside of the current session"
   ]
  },
  {
   "cell_type": "code",
   "execution_count": 2,
   "id": "162d68ec",
   "metadata": {
    "execution": {
     "iopub.execute_input": "2023-12-13T09:18:26.428268Z",
     "iopub.status.busy": "2023-12-13T09:18:26.427266Z",
     "iopub.status.idle": "2023-12-13T09:18:26.491080Z",
     "shell.execute_reply": "2023-12-13T09:18:26.489659Z"
    },
    "papermill": {
     "duration": 0.077136,
     "end_time": "2023-12-13T09:18:26.494769",
     "exception": false,
     "start_time": "2023-12-13T09:18:26.417633",
     "status": "completed"
    },
    "tags": []
   },
   "outputs": [
    {
     "data": {
      "text/html": [
       "<div>\n",
       "<style scoped>\n",
       "    .dataframe tbody tr th:only-of-type {\n",
       "        vertical-align: middle;\n",
       "    }\n",
       "\n",
       "    .dataframe tbody tr th {\n",
       "        vertical-align: top;\n",
       "    }\n",
       "\n",
       "    .dataframe thead th {\n",
       "        text-align: right;\n",
       "    }\n",
       "</style>\n",
       "<table border=\"1\" class=\"dataframe\">\n",
       "  <thead>\n",
       "    <tr style=\"text-align: right;\">\n",
       "      <th></th>\n",
       "      <th>PassengerId</th>\n",
       "      <th>Survived</th>\n",
       "      <th>Pclass</th>\n",
       "      <th>Name</th>\n",
       "      <th>Sex</th>\n",
       "      <th>Age</th>\n",
       "      <th>SibSp</th>\n",
       "      <th>Parch</th>\n",
       "      <th>Ticket</th>\n",
       "      <th>Fare</th>\n",
       "      <th>Cabin</th>\n",
       "      <th>Embarked</th>\n",
       "    </tr>\n",
       "  </thead>\n",
       "  <tbody>\n",
       "    <tr>\n",
       "      <th>0</th>\n",
       "      <td>1</td>\n",
       "      <td>0</td>\n",
       "      <td>3</td>\n",
       "      <td>Braund, Mr. Owen Harris</td>\n",
       "      <td>male</td>\n",
       "      <td>22.0</td>\n",
       "      <td>1</td>\n",
       "      <td>0</td>\n",
       "      <td>A/5 21171</td>\n",
       "      <td>7.2500</td>\n",
       "      <td>NaN</td>\n",
       "      <td>S</td>\n",
       "    </tr>\n",
       "    <tr>\n",
       "      <th>1</th>\n",
       "      <td>2</td>\n",
       "      <td>1</td>\n",
       "      <td>1</td>\n",
       "      <td>Cumings, Mrs. John Bradley (Florence Briggs Th...</td>\n",
       "      <td>female</td>\n",
       "      <td>38.0</td>\n",
       "      <td>1</td>\n",
       "      <td>0</td>\n",
       "      <td>PC 17599</td>\n",
       "      <td>71.2833</td>\n",
       "      <td>C85</td>\n",
       "      <td>C</td>\n",
       "    </tr>\n",
       "    <tr>\n",
       "      <th>2</th>\n",
       "      <td>3</td>\n",
       "      <td>1</td>\n",
       "      <td>3</td>\n",
       "      <td>Heikkinen, Miss. Laina</td>\n",
       "      <td>female</td>\n",
       "      <td>26.0</td>\n",
       "      <td>0</td>\n",
       "      <td>0</td>\n",
       "      <td>STON/O2. 3101282</td>\n",
       "      <td>7.9250</td>\n",
       "      <td>NaN</td>\n",
       "      <td>S</td>\n",
       "    </tr>\n",
       "    <tr>\n",
       "      <th>3</th>\n",
       "      <td>4</td>\n",
       "      <td>1</td>\n",
       "      <td>1</td>\n",
       "      <td>Futrelle, Mrs. Jacques Heath (Lily May Peel)</td>\n",
       "      <td>female</td>\n",
       "      <td>35.0</td>\n",
       "      <td>1</td>\n",
       "      <td>0</td>\n",
       "      <td>113803</td>\n",
       "      <td>53.1000</td>\n",
       "      <td>C123</td>\n",
       "      <td>S</td>\n",
       "    </tr>\n",
       "    <tr>\n",
       "      <th>4</th>\n",
       "      <td>5</td>\n",
       "      <td>0</td>\n",
       "      <td>3</td>\n",
       "      <td>Allen, Mr. William Henry</td>\n",
       "      <td>male</td>\n",
       "      <td>35.0</td>\n",
       "      <td>0</td>\n",
       "      <td>0</td>\n",
       "      <td>373450</td>\n",
       "      <td>8.0500</td>\n",
       "      <td>NaN</td>\n",
       "      <td>S</td>\n",
       "    </tr>\n",
       "    <tr>\n",
       "      <th>...</th>\n",
       "      <td>...</td>\n",
       "      <td>...</td>\n",
       "      <td>...</td>\n",
       "      <td>...</td>\n",
       "      <td>...</td>\n",
       "      <td>...</td>\n",
       "      <td>...</td>\n",
       "      <td>...</td>\n",
       "      <td>...</td>\n",
       "      <td>...</td>\n",
       "      <td>...</td>\n",
       "      <td>...</td>\n",
       "    </tr>\n",
       "    <tr>\n",
       "      <th>495</th>\n",
       "      <td>496</td>\n",
       "      <td>0</td>\n",
       "      <td>3</td>\n",
       "      <td>Yousseff, Mr. Gerious</td>\n",
       "      <td>male</td>\n",
       "      <td>NaN</td>\n",
       "      <td>0</td>\n",
       "      <td>0</td>\n",
       "      <td>2627</td>\n",
       "      <td>14.4583</td>\n",
       "      <td>NaN</td>\n",
       "      <td>C</td>\n",
       "    </tr>\n",
       "    <tr>\n",
       "      <th>496</th>\n",
       "      <td>497</td>\n",
       "      <td>1</td>\n",
       "      <td>1</td>\n",
       "      <td>Eustis, Miss. Elizabeth Mussey</td>\n",
       "      <td>female</td>\n",
       "      <td>54.0</td>\n",
       "      <td>1</td>\n",
       "      <td>0</td>\n",
       "      <td>36947</td>\n",
       "      <td>78.2667</td>\n",
       "      <td>D20</td>\n",
       "      <td>C</td>\n",
       "    </tr>\n",
       "    <tr>\n",
       "      <th>497</th>\n",
       "      <td>498</td>\n",
       "      <td>0</td>\n",
       "      <td>3</td>\n",
       "      <td>Shellard, Mr. Frederick William</td>\n",
       "      <td>male</td>\n",
       "      <td>NaN</td>\n",
       "      <td>0</td>\n",
       "      <td>0</td>\n",
       "      <td>C.A. 6212</td>\n",
       "      <td>15.1000</td>\n",
       "      <td>NaN</td>\n",
       "      <td>S</td>\n",
       "    </tr>\n",
       "    <tr>\n",
       "      <th>498</th>\n",
       "      <td>499</td>\n",
       "      <td>0</td>\n",
       "      <td>1</td>\n",
       "      <td>Allison, Mrs. Hudson J C (Bessie Waldo Daniels)</td>\n",
       "      <td>female</td>\n",
       "      <td>25.0</td>\n",
       "      <td>1</td>\n",
       "      <td>2</td>\n",
       "      <td>113781</td>\n",
       "      <td>151.5500</td>\n",
       "      <td>C22 C26</td>\n",
       "      <td>S</td>\n",
       "    </tr>\n",
       "    <tr>\n",
       "      <th>499</th>\n",
       "      <td>500</td>\n",
       "      <td>0</td>\n",
       "      <td>3</td>\n",
       "      <td>Svensson, Mr. Olof</td>\n",
       "      <td>male</td>\n",
       "      <td>24.0</td>\n",
       "      <td>0</td>\n",
       "      <td>0</td>\n",
       "      <td>350035</td>\n",
       "      <td>7.7958</td>\n",
       "      <td>NaN</td>\n",
       "      <td>S</td>\n",
       "    </tr>\n",
       "  </tbody>\n",
       "</table>\n",
       "<p>500 rows × 12 columns</p>\n",
       "</div>"
      ],
      "text/plain": [
       "     PassengerId  Survived  Pclass  \\\n",
       "0              1         0       3   \n",
       "1              2         1       1   \n",
       "2              3         1       3   \n",
       "3              4         1       1   \n",
       "4              5         0       3   \n",
       "..           ...       ...     ...   \n",
       "495          496         0       3   \n",
       "496          497         1       1   \n",
       "497          498         0       3   \n",
       "498          499         0       1   \n",
       "499          500         0       3   \n",
       "\n",
       "                                                  Name     Sex   Age  SibSp  \\\n",
       "0                              Braund, Mr. Owen Harris    male  22.0      1   \n",
       "1    Cumings, Mrs. John Bradley (Florence Briggs Th...  female  38.0      1   \n",
       "2                               Heikkinen, Miss. Laina  female  26.0      0   \n",
       "3         Futrelle, Mrs. Jacques Heath (Lily May Peel)  female  35.0      1   \n",
       "4                             Allen, Mr. William Henry    male  35.0      0   \n",
       "..                                                 ...     ...   ...    ...   \n",
       "495                              Yousseff, Mr. Gerious    male   NaN      0   \n",
       "496                     Eustis, Miss. Elizabeth Mussey  female  54.0      1   \n",
       "497                    Shellard, Mr. Frederick William    male   NaN      0   \n",
       "498    Allison, Mrs. Hudson J C (Bessie Waldo Daniels)  female  25.0      1   \n",
       "499                                 Svensson, Mr. Olof    male  24.0      0   \n",
       "\n",
       "     Parch            Ticket      Fare    Cabin Embarked  \n",
       "0        0         A/5 21171    7.2500      NaN        S  \n",
       "1        0          PC 17599   71.2833      C85        C  \n",
       "2        0  STON/O2. 3101282    7.9250      NaN        S  \n",
       "3        0            113803   53.1000     C123        S  \n",
       "4        0            373450    8.0500      NaN        S  \n",
       "..     ...               ...       ...      ...      ...  \n",
       "495      0              2627   14.4583      NaN        C  \n",
       "496      0             36947   78.2667      D20        C  \n",
       "497      0         C.A. 6212   15.1000      NaN        S  \n",
       "498      2            113781  151.5500  C22 C26        S  \n",
       "499      0            350035    7.7958      NaN        S  \n",
       "\n",
       "[500 rows x 12 columns]"
      ]
     },
     "execution_count": 2,
     "metadata": {},
     "output_type": "execute_result"
    }
   ],
   "source": [
    "train_data = pd.read_csv(\"/kaggle/input/titanic/train.csv\")\n",
    "train_data.head(500)\n",
    "#age of some people is not available ,so is the cabin number \n",
    "#head returns first 5 rows by default , if it is given number of rows in parameter then it returns that many number of rows "
   ]
  },
  {
   "cell_type": "code",
   "execution_count": 3,
   "id": "b5395354",
   "metadata": {
    "execution": {
     "iopub.execute_input": "2023-12-13T09:18:26.515579Z",
     "iopub.status.busy": "2023-12-13T09:18:26.515153Z",
     "iopub.status.idle": "2023-12-13T09:18:26.540622Z",
     "shell.execute_reply": "2023-12-13T09:18:26.539110Z"
    },
    "papermill": {
     "duration": 0.039662,
     "end_time": "2023-12-13T09:18:26.543507",
     "exception": false,
     "start_time": "2023-12-13T09:18:26.503845",
     "status": "completed"
    },
    "tags": []
   },
   "outputs": [
    {
     "data": {
      "text/html": [
       "<div>\n",
       "<style scoped>\n",
       "    .dataframe tbody tr th:only-of-type {\n",
       "        vertical-align: middle;\n",
       "    }\n",
       "\n",
       "    .dataframe tbody tr th {\n",
       "        vertical-align: top;\n",
       "    }\n",
       "\n",
       "    .dataframe thead th {\n",
       "        text-align: right;\n",
       "    }\n",
       "</style>\n",
       "<table border=\"1\" class=\"dataframe\">\n",
       "  <thead>\n",
       "    <tr style=\"text-align: right;\">\n",
       "      <th></th>\n",
       "      <th>PassengerId</th>\n",
       "      <th>Pclass</th>\n",
       "      <th>Name</th>\n",
       "      <th>Sex</th>\n",
       "      <th>Age</th>\n",
       "      <th>SibSp</th>\n",
       "      <th>Parch</th>\n",
       "      <th>Ticket</th>\n",
       "      <th>Fare</th>\n",
       "      <th>Cabin</th>\n",
       "      <th>Embarked</th>\n",
       "    </tr>\n",
       "  </thead>\n",
       "  <tbody>\n",
       "    <tr>\n",
       "      <th>0</th>\n",
       "      <td>892</td>\n",
       "      <td>3</td>\n",
       "      <td>Kelly, Mr. James</td>\n",
       "      <td>male</td>\n",
       "      <td>34.5</td>\n",
       "      <td>0</td>\n",
       "      <td>0</td>\n",
       "      <td>330911</td>\n",
       "      <td>7.8292</td>\n",
       "      <td>NaN</td>\n",
       "      <td>Q</td>\n",
       "    </tr>\n",
       "    <tr>\n",
       "      <th>1</th>\n",
       "      <td>893</td>\n",
       "      <td>3</td>\n",
       "      <td>Wilkes, Mrs. James (Ellen Needs)</td>\n",
       "      <td>female</td>\n",
       "      <td>47.0</td>\n",
       "      <td>1</td>\n",
       "      <td>0</td>\n",
       "      <td>363272</td>\n",
       "      <td>7.0000</td>\n",
       "      <td>NaN</td>\n",
       "      <td>S</td>\n",
       "    </tr>\n",
       "    <tr>\n",
       "      <th>2</th>\n",
       "      <td>894</td>\n",
       "      <td>2</td>\n",
       "      <td>Myles, Mr. Thomas Francis</td>\n",
       "      <td>male</td>\n",
       "      <td>62.0</td>\n",
       "      <td>0</td>\n",
       "      <td>0</td>\n",
       "      <td>240276</td>\n",
       "      <td>9.6875</td>\n",
       "      <td>NaN</td>\n",
       "      <td>Q</td>\n",
       "    </tr>\n",
       "    <tr>\n",
       "      <th>3</th>\n",
       "      <td>895</td>\n",
       "      <td>3</td>\n",
       "      <td>Wirz, Mr. Albert</td>\n",
       "      <td>male</td>\n",
       "      <td>27.0</td>\n",
       "      <td>0</td>\n",
       "      <td>0</td>\n",
       "      <td>315154</td>\n",
       "      <td>8.6625</td>\n",
       "      <td>NaN</td>\n",
       "      <td>S</td>\n",
       "    </tr>\n",
       "    <tr>\n",
       "      <th>4</th>\n",
       "      <td>896</td>\n",
       "      <td>3</td>\n",
       "      <td>Hirvonen, Mrs. Alexander (Helga E Lindqvist)</td>\n",
       "      <td>female</td>\n",
       "      <td>22.0</td>\n",
       "      <td>1</td>\n",
       "      <td>1</td>\n",
       "      <td>3101298</td>\n",
       "      <td>12.2875</td>\n",
       "      <td>NaN</td>\n",
       "      <td>S</td>\n",
       "    </tr>\n",
       "  </tbody>\n",
       "</table>\n",
       "</div>"
      ],
      "text/plain": [
       "   PassengerId  Pclass                                          Name     Sex  \\\n",
       "0          892       3                              Kelly, Mr. James    male   \n",
       "1          893       3              Wilkes, Mrs. James (Ellen Needs)  female   \n",
       "2          894       2                     Myles, Mr. Thomas Francis    male   \n",
       "3          895       3                              Wirz, Mr. Albert    male   \n",
       "4          896       3  Hirvonen, Mrs. Alexander (Helga E Lindqvist)  female   \n",
       "\n",
       "    Age  SibSp  Parch   Ticket     Fare Cabin Embarked  \n",
       "0  34.5      0      0   330911   7.8292   NaN        Q  \n",
       "1  47.0      1      0   363272   7.0000   NaN        S  \n",
       "2  62.0      0      0   240276   9.6875   NaN        Q  \n",
       "3  27.0      0      0   315154   8.6625   NaN        S  \n",
       "4  22.0      1      1  3101298  12.2875   NaN        S  "
      ]
     },
     "execution_count": 3,
     "metadata": {},
     "output_type": "execute_result"
    }
   ],
   "source": [
    "test_data = pd.read_csv(\"/kaggle/input/titanic/test.csv\")\n",
    "test_data.head()"
   ]
  },
  {
   "cell_type": "code",
   "execution_count": 4,
   "id": "cecdc526",
   "metadata": {
    "execution": {
     "iopub.execute_input": "2023-12-13T09:18:26.566919Z",
     "iopub.status.busy": "2023-12-13T09:18:26.565892Z",
     "iopub.status.idle": "2023-12-13T09:18:29.166979Z",
     "shell.execute_reply": "2023-12-13T09:18:29.164714Z"
    },
    "papermill": {
     "duration": 2.614463,
     "end_time": "2023-12-13T09:18:29.169762",
     "exception": false,
     "start_time": "2023-12-13T09:18:26.555299",
     "status": "completed"
    },
    "tags": []
   },
   "outputs": [
    {
     "name": "stdout",
     "output_type": "stream",
     "text": [
      "done\n",
      "     Pclass  SibSp  Parch      Fare        Age  Sex_female  Sex_male\n",
      "0         3      0      0  0.015282  34.500000       False      True\n",
      "1         3      1      0  0.013663  47.000000        True     False\n",
      "2         2      0      0  0.018909  62.000000       False      True\n",
      "3         3      0      0  0.016908  27.000000       False      True\n",
      "4         3      1      1  0.023984  22.000000        True     False\n",
      "..      ...    ...    ...       ...        ...         ...       ...\n",
      "413       3      0      0  0.015713  29.699118       False      True\n",
      "414       1      0      0  0.212559  39.000000        True     False\n",
      "415       3      0      0  0.014151  38.500000       False      True\n",
      "416       3      0      0  0.015713  29.699118       False      True\n",
      "417       3      1      1  0.043640  29.699118       False      True\n",
      "\n",
      "[418 rows x 7 columns]\n",
      "Your submission was saved\n"
     ]
    }
   ],
   "source": [
    "from sklearn.preprocessing import MinMaxScaler\n",
    "\n",
    "feature_to_normalize = \"Fare\"\n",
    "\n",
    "# Extract the chosen feature\n",
    "feature_values = train_data[feature_to_normalize].values.reshape(-1, 1)\n",
    "\n",
    "# Create a MinMaxScaler instance\n",
    "scaler = MinMaxScaler()\n",
    "\n",
    "# Fit and transform the feature values\n",
    "normalized_values = scaler.fit_transform(feature_values)\n",
    "\n",
    "# Update the DataFrame with normalized values\n",
    "train_data[feature_to_normalize] = normalized_values\n",
    "print(\"done\")\n",
    "from sklearn.preprocessing import MinMaxScaler\n",
    "\n",
    "feature_to_normalize = \"Fare\"\n",
    "\n",
    "# Extract the chosen feature\n",
    "feature_values = test_data[feature_to_normalize].values.reshape(-1, 1)\n",
    "\n",
    "# Create a MinMaxScaler instance\n",
    "scaler = MinMaxScaler()\n",
    "\n",
    "# Fit and transform the feature values\n",
    "normalized_values = scaler.fit_transform(feature_values)\n",
    "\n",
    "# Update the DataFrame with normalized values\n",
    "test_data[feature_to_normalize] = normalized_values\n",
    "from sklearn.ensemble import RandomForestClassifier\n",
    "from sklearn.impute import SimpleImputer\n",
    "\n",
    "\n",
    "# Assuming train_data and test_data are your DataFrames\n",
    "\n",
    "# Impute missing values in the 'Age' column\n",
    "column_name = 'Fare'\n",
    "imputer = SimpleImputer(strategy='mean')\n",
    "\n",
    "train_data[column_name] = imputer.fit_transform(train_data[[column_name]])\n",
    "test_data[column_name] = imputer.transform(test_data[[column_name]])\n",
    "column_name = 'Age'\n",
    "imputer = SimpleImputer(strategy='mean')\n",
    "\n",
    "train_data[column_name] = imputer.fit_transform(train_data[[column_name]])\n",
    "test_data[column_name] = imputer.transform(test_data[[column_name]])\n",
    "\n",
    "# Define features for training (exclude 'Survived' from features)\n",
    "features = [\"Pclass\", \"Sex\", \"SibSp\", \"Parch\", \"Fare\",\"Age\"]\n",
    "X = pd.get_dummies(train_data[features])\n",
    "y = train_data[\"Survived\"]\n",
    "#################################################\n",
    "from sklearn.model_selection import GridSearchCV\n",
    "\"\"\"\n",
    "param_grid={\n",
    "    'n_estimators': [175,225, 275],\n",
    "    'max_depth': [4,5,6],\n",
    "    'min_samples_split': [2, 5,10],\n",
    "    \n",
    "    'min_samples_leaf': [1,2,5]\n",
    "}\n",
    "\"\"\"\n",
    "##try adding \n",
    "model = RandomForestClassifier(n_estimators = 180 , max_depth = 4 , min_samples_split = 2, min_samples_leaf = 1, random_state=42) #or use entropy in place of gini\n",
    "#grid_search = GridSearchCV(model, param_grid, cv=5, scoring='accuracy',n_jobs=-1)\n",
    "#grid_search.fit(X, y)\n",
    "\n",
    "#best_params = grid_search.best_params_\n",
    "#print(\"Best ones: \" , best_params )\n",
    "#################################################\n",
    "#Create and train the Random Forest model\n",
    "\n",
    "model.fit(X, y)\n",
    "\n",
    "# Prepare features for the test set\n",
    "X_test = pd.get_dummies(test_data[features])\n",
    "print(X_test)\n",
    "\n",
    "\n",
    "# Make predictions\n",
    "predictions = model.predict(X_test)\n",
    "\n",
    "# Create a submission DataFrame\n",
    "output = pd.DataFrame({'PassengerId': test_data.PassengerId, 'Survived': predictions})\n",
    "\n",
    "# Save the submission to a CSV file\n",
    "output.to_csv('submission.csv', index=False)\n",
    "print(\"Your submission was saved\")"
   ]
  },
  {
   "cell_type": "code",
   "execution_count": null,
   "id": "5f598321",
   "metadata": {
    "papermill": {
     "duration": 0.009054,
     "end_time": "2023-12-13T09:18:29.188791",
     "exception": false,
     "start_time": "2023-12-13T09:18:29.179737",
     "status": "completed"
    },
    "tags": []
   },
   "outputs": [],
   "source": []
  },
  {
   "cell_type": "code",
   "execution_count": null,
   "id": "d522dde0",
   "metadata": {
    "papermill": {
     "duration": 0.008917,
     "end_time": "2023-12-13T09:18:29.206899",
     "exception": false,
     "start_time": "2023-12-13T09:18:29.197982",
     "status": "completed"
    },
    "tags": []
   },
   "outputs": [],
   "source": []
  },
  {
   "cell_type": "code",
   "execution_count": 5,
   "id": "352df748",
   "metadata": {
    "execution": {
     "iopub.execute_input": "2023-12-13T09:18:29.227344Z",
     "iopub.status.busy": "2023-12-13T09:18:29.226883Z",
     "iopub.status.idle": "2023-12-13T09:18:29.234742Z",
     "shell.execute_reply": "2023-12-13T09:18:29.233490Z"
    },
    "papermill": {
     "duration": 0.021336,
     "end_time": "2023-12-13T09:18:29.237510",
     "exception": false,
     "start_time": "2023-12-13T09:18:29.216174",
     "status": "completed"
    },
    "tags": []
   },
   "outputs": [
    {
     "name": "stdout",
     "output_type": "stream",
     "text": [
      "categorical variables\n",
      "['Name', 'Sex', 'Ticket', 'Cabin', 'Embarked']\n"
     ]
    }
   ],
   "source": [
    "##list of categorical variables \n",
    "s = (train_data.dtypes == 'object')\n",
    "object_cols = list (s[s].index)\n",
    "print(\"categorical variables\")\n",
    "print(object_cols)\n",
    "\n"
   ]
  },
  {
   "cell_type": "code",
   "execution_count": 6,
   "id": "70760598",
   "metadata": {
    "execution": {
     "iopub.execute_input": "2023-12-13T09:18:29.259787Z",
     "iopub.status.busy": "2023-12-13T09:18:29.259370Z",
     "iopub.status.idle": "2023-12-13T09:18:29.265769Z",
     "shell.execute_reply": "2023-12-13T09:18:29.264068Z"
    },
    "papermill": {
     "duration": 0.021594,
     "end_time": "2023-12-13T09:18:29.269589",
     "exception": false,
     "start_time": "2023-12-13T09:18:29.247995",
     "status": "completed"
    },
    "tags": []
   },
   "outputs": [],
   "source": [
    "##to ordinally encode : sex : "
   ]
  },
  {
   "cell_type": "code",
   "execution_count": 7,
   "id": "4f76e676",
   "metadata": {
    "execution": {
     "iopub.execute_input": "2023-12-13T09:18:29.292369Z",
     "iopub.status.busy": "2023-12-13T09:18:29.291974Z",
     "iopub.status.idle": "2023-12-13T09:18:29.343854Z",
     "shell.execute_reply": "2023-12-13T09:18:29.342959Z"
    },
    "papermill": {
     "duration": 0.067364,
     "end_time": "2023-12-13T09:18:29.347153",
     "exception": false,
     "start_time": "2023-12-13T09:18:29.279789",
     "status": "completed"
    },
    "tags": []
   },
   "outputs": [
    {
     "name": "stdout",
     "output_type": "stream",
     "text": [
      "number of age boxes missing is :  0\n",
      "*************************************************************************************\n",
      "['PassengerId', 'Survived', 'Pclass', 'Name', 'Sex', 'Age', 'SibSp', 'Parch', 'Ticket', 'Fare', 'Cabin', 'Embarked']\n",
      "*************************************************************************************\n",
      "Number of missing values in each column:\n",
      "PassengerId      0\n",
      "Survived         0\n",
      "Pclass           0\n",
      "Name             0\n",
      "Sex              0\n",
      "Age              0\n",
      "SibSp            0\n",
      "Parch            0\n",
      "Ticket           0\n",
      "Fare             0\n",
      "Cabin          687\n",
      "Embarked         2\n",
      "dtype: int64\n",
      "*************************************************************************************\n",
      "% of women who survived: 0.7420382165605095\n",
      "ye bhi hogya \n",
      "     PassengerId  Survived  Pclass        Age  SibSp  Parch      Fare  \\\n",
      "0              1         0       3  22.000000      1      0  0.014151   \n",
      "1              2         1       1  38.000000      1      0  0.139136   \n",
      "2              3         1       3  26.000000      0      0  0.015469   \n",
      "3              4         1       1  35.000000      1      0  0.103644   \n",
      "4              5         0       3  35.000000      0      0  0.015713   \n",
      "..           ...       ...     ...        ...    ...    ...       ...   \n",
      "886          887         0       2  27.000000      0      0  0.025374   \n",
      "887          888         1       1  19.000000      0      0  0.058556   \n",
      "888          889         0       3  29.699118      1      2  0.045771   \n",
      "889          890         1       1  26.000000      0      0  0.058556   \n",
      "890          891         0       3  32.000000      0      0  0.015127   \n",
      "\n",
      "     Name_Abbing, Mr. Anthony  Name_Abbott, Mr. Rossmore Edward  \\\n",
      "0                       False                             False   \n",
      "1                       False                             False   \n",
      "2                       False                             False   \n",
      "3                       False                             False   \n",
      "4                       False                             False   \n",
      "..                        ...                               ...   \n",
      "886                     False                             False   \n",
      "887                     False                             False   \n",
      "888                     False                             False   \n",
      "889                     False                             False   \n",
      "890                     False                             False   \n",
      "\n",
      "     Name_Abbott, Mrs. Stanton (Rosa Hunt)  ...  Cabin_F G73  Cabin_F2  \\\n",
      "0                                    False  ...        False     False   \n",
      "1                                    False  ...        False     False   \n",
      "2                                    False  ...        False     False   \n",
      "3                                    False  ...        False     False   \n",
      "4                                    False  ...        False     False   \n",
      "..                                     ...  ...          ...       ...   \n",
      "886                                  False  ...        False     False   \n",
      "887                                  False  ...        False     False   \n",
      "888                                  False  ...        False     False   \n",
      "889                                  False  ...        False     False   \n",
      "890                                  False  ...        False     False   \n",
      "\n",
      "     Cabin_F33  Cabin_F38  Cabin_F4  Cabin_G6  Cabin_T  Embarked_C  \\\n",
      "0        False      False     False     False    False       False   \n",
      "1        False      False     False     False    False        True   \n",
      "2        False      False     False     False    False       False   \n",
      "3        False      False     False     False    False       False   \n",
      "4        False      False     False     False    False       False   \n",
      "..         ...        ...       ...       ...      ...         ...   \n",
      "886      False      False     False     False    False       False   \n",
      "887      False      False     False     False    False       False   \n",
      "888      False      False     False     False    False       False   \n",
      "889      False      False     False     False    False        True   \n",
      "890      False      False     False     False    False       False   \n",
      "\n",
      "     Embarked_Q  Embarked_S  \n",
      "0         False        True  \n",
      "1         False       False  \n",
      "2         False        True  \n",
      "3         False        True  \n",
      "4         False        True  \n",
      "..          ...         ...  \n",
      "886       False        True  \n",
      "887       False        True  \n",
      "888       False        True  \n",
      "889       False       False  \n",
      "890        True       False  \n",
      "\n",
      "[891 rows x 1731 columns]\n"
     ]
    }
   ],
   "source": [
    "unav = train_data.loc[pd.isnull(train_data['Age'])]\n",
    "print(\"number of age boxes missing is : \" , len(unav) )\n",
    "print(\"*************************************************************************************\")\n",
    "columns = train_data.columns.tolist()\n",
    "print(columns)\n",
    "print(\"*************************************************************************************\")\n",
    "\n",
    "missing_values = train_data.isnull().sum()\n",
    "\n",
    "print(\"Number of missing values in each column:\")\n",
    "print(missing_values)\n",
    "print(\"*************************************************************************************\")\n",
    "women = train_data.loc[train_data.Sex == 'female'][\"Survived\"]\n",
    "rate_women = sum(women)/len(women)\n",
    "\n",
    "print(\"% of women who survived:\", rate_women)\n",
    "#todrop = 'Name'\n",
    "#train_data = train_data.drop(todrop , axis =1)\n",
    "#test_data = test_data.drop(todrop , axis =1)\n",
    "#print(\"hata diye naam\")\n",
    "snstrain = train_data.copy()\n",
    "snsfinal = pd.get_dummies(snstrain)\n",
    "#snsfinal = snsfinal.drop('Cabin',axis =1)\n",
    "#snsfinal = snsfinal.drop('Embarked',axis =1)\n",
    "#snsfinal = snsfinal.drop('Ticket',axis =1)\n",
    "print(\"ye bhi hogya \")\n",
    "print(snsfinal)\n"
   ]
  },
  {
   "cell_type": "code",
   "execution_count": 8,
   "id": "9d7c7282",
   "metadata": {
    "execution": {
     "iopub.execute_input": "2023-12-13T09:18:29.368757Z",
     "iopub.status.busy": "2023-12-13T09:18:29.368330Z",
     "iopub.status.idle": "2023-12-13T09:18:29.413323Z",
     "shell.execute_reply": "2023-12-13T09:18:29.411935Z"
    },
    "papermill": {
     "duration": 0.05887,
     "end_time": "2023-12-13T09:18:29.416101",
     "exception": false,
     "start_time": "2023-12-13T09:18:29.357231",
     "status": "completed"
    },
    "tags": []
   },
   "outputs": [
    {
     "name": "stdout",
     "output_type": "stream",
     "text": [
      "*************************************************************************************\n",
      "*************************************************************************************\n",
      "*************************************************************************************\n",
      "     Pclass  SibSp  Parch        Age  Sex_female  Sex_male\n",
      "0         3      1      0  22.000000       False      True\n",
      "1         1      1      0  38.000000        True     False\n",
      "2         3      0      0  26.000000        True     False\n",
      "3         1      1      0  35.000000        True     False\n",
      "4         3      0      0  35.000000       False      True\n",
      "..      ...    ...    ...        ...         ...       ...\n",
      "886       2      0      0  27.000000       False      True\n",
      "887       1      0      0  19.000000        True     False\n",
      "888       3      1      2  29.699118        True     False\n",
      "889       1      0      0  26.000000       False      True\n",
      "890       3      0      0  32.000000       False      True\n",
      "\n",
      "[891 rows x 6 columns]\n",
      "*************************************************************************************\n",
      "     Pclass  SibSp  Parch        Age  Sex_female  Sex_male\n",
      "0         3      0      0  34.500000       False      True\n",
      "1         3      1      0  47.000000        True     False\n",
      "2         2      0      0  62.000000       False      True\n",
      "3         3      0      0  27.000000       False      True\n",
      "4         3      1      1  22.000000        True     False\n",
      "..      ...    ...    ...        ...         ...       ...\n",
      "413       3      0      0  29.699118       False      True\n",
      "414       1      0      0  39.000000        True     False\n",
      "415       3      0      0  38.500000       False      True\n",
      "416       3      0      0  29.699118       False      True\n",
      "417       3      1      1  29.699118       False      True\n",
      "\n",
      "[418 rows x 6 columns]\n"
     ]
    }
   ],
   "source": [
    "from sklearn.ensemble import RandomForestClassifier \n",
    "from sklearn.impute import SimpleImputer\n",
    "\n",
    "#not used random forest classifier in this case because we are classifying the probabillity of survival , so no need for random forest regressor \n",
    "y = train_data[\"Survived\"]\n",
    "#ignore cabin column since majority fof it is empty as it is \n",
    "#introduce Age \n",
    "# Specify the column you want to impute\n",
    "column_name = 'Age'\n",
    "# Extract the column as a DataFrame\n",
    "print(\"*************************************************************************************\")\n",
    "column_to_impute = train_data[[column_name]]\n",
    "# Create a SimpleImputer instance with a strategy (e.g., mean, median, most_frequent)\n",
    "imputer = SimpleImputer(strategy='mean')\n",
    "# Fit and transform the column using the imputer\n",
    "column_imputed = pd.DataFrame(imputer.fit_transform(column_to_impute), columns=[column_name])\n",
    "\n",
    "# Replace the original column with the imputed values\n",
    "train_data[column_name] = column_imputed[column_name]\n",
    "print(\"*************************************************************************************\")\n",
    "column_to_impute = test_data[[column_name]]\n",
    "# Create a SimpleImputer instance with a strategy (e.g., mean, median, most_frequent)\n",
    "imputer = SimpleImputer(strategy='mean')\n",
    "# Fit and transform the column using the imputer\n",
    "column_imputed = pd.DataFrame(imputer.fit_transform(column_to_impute), columns=[column_name])\n",
    "\n",
    "# Replace the original column with the imputed values\n",
    "test_data[column_name] = column_imputed[column_name]\n",
    "print(\"*************************************************************************************\")\n",
    "features = [\"Pclass\",\"Sex\",\"SibSp\",\"Parch\",\"Age\"]\n",
    "features2 = [\"Pclass\",\"Sex\",\"SibSp\",\"Parch\",\"Age\",\"Survived\",\"Fare\"]\n",
    "#introducing age gives error since it contains missing values ,so we should first impute it \n",
    "\n",
    "#establishing the features we need to cater to for making predictions\n",
    "X=  pd.get_dummies(train_data[features]) \n",
    "X2 = pd.get_dummies(train_data[features2])\n",
    "print(X)\n",
    "print(\"*************************************************************************************\")\n",
    "\n",
    "#one-hot encoding the categorical variable columns (sex in this case )\n",
    "X_test = pd.get_dummies(test_data[features]) \n",
    "print(X_test)\n",
    "\n",
    "\n",
    "#####--------------------------------------\n",
    "\n",
    "\n"
   ]
  },
  {
   "cell_type": "code",
   "execution_count": 9,
   "id": "ec1082fa",
   "metadata": {
    "execution": {
     "iopub.execute_input": "2023-12-13T09:18:29.438488Z",
     "iopub.status.busy": "2023-12-13T09:18:29.437813Z",
     "iopub.status.idle": "2023-12-13T09:18:30.596983Z",
     "shell.execute_reply": "2023-12-13T09:18:30.595640Z"
    },
    "papermill": {
     "duration": 1.173514,
     "end_time": "2023-12-13T09:18:30.600074",
     "exception": false,
     "start_time": "2023-12-13T09:18:29.426560",
     "status": "completed"
    },
    "tags": []
   },
   "outputs": [
    {
     "data": {
      "text/plain": [
       "<Axes: >"
      ]
     },
     "execution_count": 9,
     "metadata": {},
     "output_type": "execute_result"
    },
    {
     "data": {
      "image/png": "[encoded data removed]",
      "text/plain": [
       "<Figure size 1400x1000 with 2 Axes>"
      ]
     },
     "metadata": {},
     "output_type": "display_data"
    }
   ],
   "source": [
    "import matplotlib.pyplot as plt \n",
    "import seaborn as sns\n",
    "%matplotlib inline \n",
    "correlation_matrix = X2.corr()\n",
    "plt.figure(figsize = (14,10))\n",
    "sns.heatmap(correlation_matrix ,annot = True,cmap = 'coolwarm')\n",
    "##in this case the correlation matrix helps by allowing us to understand the linear relationship between features and how they affect the outcome "
   ]
  },
  {
   "cell_type": "code",
   "execution_count": null,
   "id": "e54627b5",
   "metadata": {
    "papermill": {
     "duration": 0.011012,
     "end_time": "2023-12-13T09:18:30.623015",
     "exception": false,
     "start_time": "2023-12-13T09:18:30.612003",
     "status": "completed"
    },
    "tags": []
   },
   "outputs": [],
   "source": []
  },
  {
   "cell_type": "code",
   "execution_count": 10,
   "id": "9443a41f",
   "metadata": {
    "execution": {
     "iopub.execute_input": "2023-12-13T09:18:30.650120Z",
     "iopub.status.busy": "2023-12-13T09:18:30.649050Z",
     "iopub.status.idle": "2023-12-13T09:18:36.531558Z",
     "shell.execute_reply": "2023-12-13T09:18:36.530347Z"
    },
    "papermill": {
     "duration": 5.899782,
     "end_time": "2023-12-13T09:18:36.535120",
     "exception": false,
     "start_time": "2023-12-13T09:18:30.635338",
     "status": "completed"
    },
    "tags": []
   },
   "outputs": [
    {
     "name": "stderr",
     "output_type": "stream",
     "text": [
      "<__array_function__ internals>:200: RuntimeWarning: Converting input from bool to <class 'numpy.uint8'> for compatibility.\n",
      "<__array_function__ internals>:200: RuntimeWarning: Converting input from bool to <class 'numpy.uint8'> for compatibility.\n"
     ]
    },
    {
     "data": {
      "image/png": "[encoded data removed]",
      "text/plain": [
       "<Figure size 1000x1000 with 20 Axes>"
      ]
     },
     "metadata": {},
     "output_type": "display_data"
    }
   ],
   "source": [
    "##using pairplot functionality of seaborn\n",
    "sns.pairplot(X2[['Survived', 'Sex_male', 'Sex_female' , 'Pclass']])\n",
    "plt.show()"
   ]
  },
  {
   "cell_type": "code",
   "execution_count": 11,
   "id": "d1b6ac7b",
   "metadata": {
    "execution": {
     "iopub.execute_input": "2023-12-13T09:18:36.564458Z",
     "iopub.status.busy": "2023-12-13T09:18:36.564012Z",
     "iopub.status.idle": "2023-12-13T09:18:36.892429Z",
     "shell.execute_reply": "2023-12-13T09:18:36.891497Z"
    },
    "papermill": {
     "duration": 0.346356,
     "end_time": "2023-12-13T09:18:36.895145",
     "exception": false,
     "start_time": "2023-12-13T09:18:36.548789",
     "status": "completed"
    },
    "tags": []
   },
   "outputs": [
    {
     "data": {
      "image/png": "[encoded data removed]",
      "text/plain": [
       "<Figure size 640x480 with 1 Axes>"
      ]
     },
     "metadata": {},
     "output_type": "display_data"
    }
   ],
   "source": [
    "#scatter plot between some features\n",
    "sns.scatterplot(x='Fare', y='Survived', data=train_data)\n",
    "plt.title('Scatter Plot between age and survived')\n",
    "plt.show()"
   ]
  },
  {
   "cell_type": "code",
   "execution_count": 12,
   "id": "79829c7c",
   "metadata": {
    "execution": {
     "iopub.execute_input": "2023-12-13T09:18:36.925489Z",
     "iopub.status.busy": "2023-12-13T09:18:36.924687Z",
     "iopub.status.idle": "2023-12-13T09:18:37.273102Z",
     "shell.execute_reply": "2023-12-13T09:18:37.271708Z"
    },
    "papermill": {
     "duration": 0.366643,
     "end_time": "2023-12-13T09:18:37.275686",
     "exception": false,
     "start_time": "2023-12-13T09:18:36.909043",
     "status": "completed"
    },
    "tags": []
   },
   "outputs": [
    {
     "data": {
      "image/png": "[encoded data removed]",
      "text/plain": [
       "<Figure size 640x480 with 1 Axes>"
      ]
     },
     "metadata": {},
     "output_type": "display_data"
    }
   ],
   "source": [
    "sns.scatterplot(x='Age', y='Survived', data=train_data)\n",
    "plt.title('Scatter Plot between age and survived')\n",
    "plt.show()"
   ]
  },
  {
   "cell_type": "code",
   "execution_count": 13,
   "id": "59e08248",
   "metadata": {
    "execution": {
     "iopub.execute_input": "2023-12-13T09:18:37.304736Z",
     "iopub.status.busy": "2023-12-13T09:18:37.304308Z",
     "iopub.status.idle": "2023-12-13T09:18:37.309539Z",
     "shell.execute_reply": "2023-12-13T09:18:37.308258Z"
    },
    "papermill": {
     "duration": 0.022606,
     "end_time": "2023-12-13T09:18:37.312254",
     "exception": false,
     "start_time": "2023-12-13T09:18:37.289648",
     "status": "completed"
    },
    "tags": []
   },
   "outputs": [],
   "source": [
    "##outlier cropping of age (70 k upar waale hata do )\n",
    "#outlier cropping of fare ; try removing upper limit \n"
   ]
  },
  {
   "cell_type": "code",
   "execution_count": 14,
   "id": "d0693d9e",
   "metadata": {
    "execution": {
     "iopub.execute_input": "2023-12-13T09:18:37.344183Z",
     "iopub.status.busy": "2023-12-13T09:18:37.343748Z",
     "iopub.status.idle": "2023-12-13T09:18:37.351933Z",
     "shell.execute_reply": "2023-12-13T09:18:37.350489Z"
    },
    "papermill": {
     "duration": 0.027008,
     "end_time": "2023-12-13T09:18:37.354331",
     "exception": false,
     "start_time": "2023-12-13T09:18:37.327323",
     "status": "completed"
    },
    "tags": []
   },
   "outputs": [
    {
     "name": "stdout",
     "output_type": "stream",
     "text": [
      "% of men who survived: 0.18890814558058924\n"
     ]
    }
   ],
   "source": [
    "men = train_data.loc[train_data.Sex == 'male'][\"Survived\"]\n",
    "rate_men = sum(men)/len(men)\n",
    "\n",
    "print(\"% of men who survived:\", rate_men)"
   ]
  },
  {
   "cell_type": "code",
   "execution_count": null,
   "id": "a2558f8e",
   "metadata": {
    "papermill": {
     "duration": 0.015261,
     "end_time": "2023-12-13T09:18:37.385020",
     "exception": false,
     "start_time": "2023-12-13T09:18:37.369759",
     "status": "completed"
    },
    "tags": []
   },
   "outputs": [],
   "source": []
  },
  {
   "cell_type": "code",
   "execution_count": 15,
   "id": "5487b202",
   "metadata": {
    "execution": {
     "iopub.execute_input": "2023-12-13T09:18:37.417288Z",
     "iopub.status.busy": "2023-12-13T09:18:37.416412Z",
     "iopub.status.idle": "2023-12-13T09:18:37.976120Z",
     "shell.execute_reply": "2023-12-13T09:18:37.974689Z"
    },
    "papermill": {
     "duration": 0.579171,
     "end_time": "2023-12-13T09:18:37.978623",
     "exception": false,
     "start_time": "2023-12-13T09:18:37.399452",
     "status": "completed"
    },
    "tags": []
   },
   "outputs": [
    {
     "name": "stdout",
     "output_type": "stream",
     "text": [
      "*************************************************************************************\n",
      "Your submission was saved\n"
     ]
    }
   ],
   "source": [
    "\n",
    "print(\"*************************************************************************************\")\n",
    "\n",
    "model = RandomForestClassifier(n_estimators = 200, max_depth =5 , random_state=1)\n",
    "#n_estimators control the number of trees in the random forest \n",
    "#max_depth controls the number of levels in each tree, assign 5 or about 5 to avoid overfitting , \n",
    "#try using bootstrap = true in the future and see what happens ; a bootstrap sample is one derived from the main sample at random ,and increases the model's unerstanding for making predictions \n",
    "#based on unknown data . since data in bootstrap samples is taken at random ,we might see data repitition or some aspects of data not being accounted for at all \n",
    "#example :Let's say you want to estimate the average height of people in a city. Instead of measuring the height of every person, you take multiple bootstrap samples from a smaller group of people. Each sample represents a subset of the population.\n",
    "#By calculating the average height in each bootstrap sample, you can get an idea of the variability in your estimate.\n",
    "#also try using class_weight , which allows for weaker classes (lower amount of data) which might have a stronger influence on the model's predictions from being neglected, we can do so by simply increasing the weight of htat particular class  \n",
    "\n",
    "model.fit(X,y)\n",
    "predictions = model.predict(X_test)\n",
    "output = pd.DataFrame({'PassengerId':test_data.PassengerId, 'Survived': predictions})\n",
    "output.to_csv('submission.csv',index = False)\n",
    "print(\"Your submission was saved\")\n"
   ]
  },
  {
   "cell_type": "code",
   "execution_count": null,
   "id": "aa439408",
   "metadata": {
    "papermill": {
     "duration": 0.01496,
     "end_time": "2023-12-13T09:18:38.008540",
     "exception": false,
     "start_time": "2023-12-13T09:18:37.993580",
     "status": "completed"
    },
    "tags": []
   },
   "outputs": [],
   "source": []
  },
  {
   "cell_type": "code",
   "execution_count": null,
   "id": "d4a68814",
   "metadata": {
    "papermill": {
     "duration": 0.015903,
     "end_time": "2023-12-13T09:18:38.039141",
     "exception": false,
     "start_time": "2023-12-13T09:18:38.023238",
     "status": "completed"
    },
    "tags": []
   },
   "outputs": [],
   "source": []
  },
  {
   "cell_type": "code",
   "execution_count": null,
   "id": "ff332966",
   "metadata": {
    "papermill": {
     "duration": 0.015328,
     "end_time": "2023-12-13T09:18:38.069933",
     "exception": false,
     "start_time": "2023-12-13T09:18:38.054605",
     "status": "completed"
    },
    "tags": []
   },
   "outputs": [],
   "source": []
  },
  {
   "cell_type": "code",
   "execution_count": null,
   "id": "0e23f219",
   "metadata": {
    "papermill": {
     "duration": 0.015348,
     "end_time": "2023-12-13T09:18:38.100495",
     "exception": false,
     "start_time": "2023-12-13T09:18:38.085147",
     "status": "completed"
    },
    "tags": []
   },
   "outputs": [],
   "source": []
  },
  {
   "cell_type": "code",
   "execution_count": null,
   "id": "c782c8b0",
   "metadata": {
    "papermill": {
     "duration": 0.013048,
     "end_time": "2023-12-13T09:18:38.127282",
     "exception": false,
     "start_time": "2023-12-13T09:18:38.114234",
     "status": "completed"
    },
    "tags": []
   },
   "outputs": [],
   "source": []
  },
  {
   "cell_type": "code",
   "execution_count": null,
   "id": "92ce0c97",
   "metadata": {
    "papermill": {
     "duration": 0.015953,
     "end_time": "2023-12-13T09:18:38.156574",
     "exception": false,
     "start_time": "2023-12-13T09:18:38.140621",
     "status": "completed"
    },
    "tags": []
   },
   "outputs": [],
   "source": []
  },
  {
   "cell_type": "code",
   "execution_count": null,
   "id": "fe8eee97",
   "metadata": {
    "papermill": {
     "duration": 0.014726,
     "end_time": "2023-12-13T09:18:38.185815",
     "exception": false,
     "start_time": "2023-12-13T09:18:38.171089",
     "status": "completed"
    },
    "tags": []
   },
   "outputs": [],
   "source": []
  }
 ],
 "metadata": {
  "kaggle": {
   "accelerator": "none",
   "dataSources": [
    {
     "databundleVersionId": 26502,
     "sourceId": 3136,
     "sourceType": "competition"
    }
   ],
   "dockerImageVersionId": 30615,
   "isGpuEnabled": false,
   "isInternetEnabled": true,
   "language": "python",
   "sourceType": "notebook"
  },
  "kernelspec": {
   "display_name": "Python 3",
   "language": "python",
   "name": "python3"
  },
  "language_info": {
   "codemirror_mode": {
    "name": "ipython",
    "version": 3
   },
   "file_extension": ".py",
   "mimetype": "text/x-python",
   "name": "python",
   "nbconvert_exporter": "python",
   "pygments_lexer": "ipython3",
   "version": "3.10.12"
  },
  "papermill": {
   "default_parameters": {},
   "duration": 17.04064,
   "end_time": "2023-12-13T09:18:39.127884",
   "environment_variables": {},
   "exception": null,
   "input_path": "__notebook__.ipynb",
   "output_path": "__notebook__.ipynb",
   "parameters": {},
   "start_time": "2023-12-13T09:18:22.087244",
   "version": "2.4.0"
  }
 },
 "nbformat": 4,
 "nbformat_minor": 5
}
